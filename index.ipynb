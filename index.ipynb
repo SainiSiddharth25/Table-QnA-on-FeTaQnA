{
 "cells": [
  {
   "cell_type": "code",
   "execution_count": 10,
   "id": "c6bbc740",
   "metadata": {},
   "outputs": [],
   "source": [
    "import pandas as pd\n",
    "\n",
    "splits = {'train': 'fetaQA-v1_train.jsonl', 'validation': 'fetaQA-v1_dev.jsonl', 'test': 'fetaQA-v1_test.jsonl'}\n",
    "df = pd.read_json(\"hf://datasets/DongfuJiang/FeTaQA/\" + splits[\"train\"], lines=True)"
   ]
  },
  {
   "cell_type": "code",
   "execution_count": 14,
   "id": "9fa5a3cc",
   "metadata": {},
   "outputs": [],
   "source": [
    "df_val = pd.read_json(\"hf://datasets/DongfuJiang/FeTaQA/\" + splits[\"validation\"], lines=True)\n",
    "df_test = pd.read_json(\"hf://datasets/DongfuJiang/FeTaQA/\" + splits[\"test\"], lines=True)\n",
    "df.to_csv(\"train.csv\")\n",
    "df_val.to_csv(\"val.csv\")\n",
    "df_test.to_csv(\"test.csv\")"
   ]
  },
  {
   "cell_type": "code",
   "execution_count": 13,
   "id": "0a0d7a6c",
   "metadata": {},
   "outputs": [],
   "source": [
    "df.to_pickle(\"train.pkl\")\n",
    "df_val.to_pickle(\"val.pkl\")\n",
    "df_test.to_pickle(\"test.pkl\")"
   ]
  },
  {
   "cell_type": "code",
   "execution_count": 1,
   "id": "c32fcaf4",
   "metadata": {},
   "outputs": [
    {
     "name": "stderr",
     "output_type": "stream",
     "text": [
      "C:\\Users\\dell\\AppData\\Roaming\\Python\\Python313\\site-packages\\tqdm\\auto.py:21: TqdmWarning: IProgress not found. Please update jupyter and ipywidgets. See https://ipywidgets.readthedocs.io/en/stable/user_install.html\n",
      "  from .autonotebook import tqdm as notebook_tqdm\n",
      "C:\\Users\\dell\\AppData\\Roaming\\Python\\Python313\\site-packages\\huggingface_hub\\file_download.py:144: UserWarning: `huggingface_hub` cache-system uses symlinks by default to efficiently store duplicated files but your machine does not support them in C:\\Users\\dell\\.cache\\huggingface\\hub\\datasets--DongfuJiang--FeTaQA. Caching files will still work but in a degraded version that might require more space on your disk. This warning can be disabled by setting the `HF_HUB_DISABLE_SYMLINKS_WARNING` environment variable. For more details, see https://huggingface.co/docs/huggingface_hub/how-to-cache#limitations.\n",
      "To support symlinks on Windows, you either need to activate Developer Mode or to run Python as an administrator. In order to activate developer mode, see this article: https://docs.microsoft.com/en-us/windows/apps/get-started/enable-your-device-for-development\n",
      "  warnings.warn(message)\n",
      "Generating train split: 100%|██████████| 7326/7326 [00:00<00:00, 109894.43 examples/s]\n",
      "Generating validation split: 100%|██████████| 1001/1001 [00:00<00:00, 74071.10 examples/s]\n",
      "Generating test split: 100%|██████████| 2003/2003 [00:00<00:00, 107930.36 examples/s]\n"
     ]
    }
   ],
   "source": [
    "from datasets import load_dataset\n",
    "\n",
    "ds = load_dataset(\"DongfuJiang/FeTaQA\")"
   ]
  },
  {
   "cell_type": "code",
   "execution_count": 6,
   "id": "ccd73cac",
   "metadata": {},
   "outputs": [
    {
     "name": "stdout",
     "output_type": "stream",
     "text": [
      "Dataset({\n",
      "    features: ['feta_id', 'table_source_json', 'page_wikipedia_url', 'table_page_title', 'table_section_title', 'table_array', 'highlighted_cell_ids', 'question', 'answer'],\n",
      "    num_rows: 7326\n",
      "})\n"
     ]
    },
    {
     "name": "stderr",
     "output_type": "stream",
     "text": [
      "Creating CSV from Arrow format:   0%|          | 0/8 [00:00<?, ?ba/s]"
     ]
    },
    {
     "name": "stderr",
     "output_type": "stream",
     "text": [
      "Creating CSV from Arrow format: 100%|██████████| 8/8 [00:03<00:00,  2.09ba/s]\n"
     ]
    },
    {
     "data": {
      "text/plain": [
       "16748389"
      ]
     },
     "execution_count": 6,
     "metadata": {},
     "output_type": "execute_result"
    }
   ],
   "source": [
    "print(ds[\"train\"])\n",
    "ds[\"train\"].to_csv(\"train.csv\")"
   ]
  },
  {
   "cell_type": "code",
   "execution_count": 8,
   "id": "ff6e5fd1",
   "metadata": {},
   "outputs": [
    {
     "name": "stderr",
     "output_type": "stream",
     "text": [
      "Creating CSV from Arrow format: 100%|██████████| 2/2 [00:00<00:00,  4.02ba/s]\n",
      "Creating CSV from Arrow format: 100%|██████████| 3/3 [00:01<00:00,  2.94ba/s]\n"
     ]
    },
    {
     "data": {
      "text/plain": [
       "4266205"
      ]
     },
     "execution_count": 8,
     "metadata": {},
     "output_type": "execute_result"
    }
   ],
   "source": [
    "ds[\"validation\"].to_csv(\"val.csv\")\n",
    "ds[\"test\"].to_csv(\"test.csv\")"
   ]
  },
  {
   "cell_type": "code",
   "execution_count": null,
   "id": "a52346cf",
   "metadata": {},
   "outputs": [
    {
     "name": "stdout",
     "output_type": "stream",
     "text": [
      "[['Party', 'Party', 'Candidate', 'Votes', '%', '±'], ['-', 'Republican', 'James R. Thompson (incumbent)', '1,816,101', '49.44', '-'], ['-', 'Democratic', 'Adlai Stevenson III', '1,811,027', '49.30', '-'], ['-', 'Libertarian', 'Bea Armstrong', '24,417', '0.66', '-'], ['-', 'Taxpayers', 'John E. Roche', '22,001', '0.60', '-'], ['-', 'N/A', 'write-ins', '161', '0.00', 'n-a'], ['Majority', 'Majority', 'Majority', '5,074', '0.14', '-'], ['Turnout', 'Turnout', 'Turnout', '3,673,707', '-', '-'], ['-', 'Republican hold', 'Republican hold', 'Swing', '-', '-']]\n"
     ]
    }
   ],
   "source": [
    "from datasets import load_dataset\n",
    "\n",
    "dataset = load_dataset(\"DongfuJiang/FeTaQA\")\n",
    "\n",
    "dataset_train = dataset[\"train\"]\n",
    "print(dataset_train[\"table_array\"][0])"
   ]
  },
  {
   "cell_type": "code",
   "execution_count": 23,
   "id": "366b9364",
   "metadata": {},
   "outputs": [
    {
     "name": "stdout",
     "output_type": "stream",
     "text": [
      "['-', '-', '-', 'Regular season', 'Regular season', 'Regular season', 'Regular season', 'Regular season', 'Playoffs', 'Playoffs', 'Playoffs', 'Playoffs', 'Playoffs', '-', '-']\n",
      "['Season', 'Team', 'League', '-', 'GP', 'G', 'A', 'Pts', 'PIM', '-', 'GP', 'G', 'A', 'Pts', 'PIM']\n",
      "['2004–05', 'Airdrie Xtreme', 'AMBHL', '-', '37', '19', '20', '39', '28', '-', '4', '2', '3', '5', '6']\n",
      "['2005–06', 'Airdrie Xtreme', 'AMBHL', '-', '34', '23', '23', '46', '62', '-', '4', '3', '5', '8', '8']\n",
      "['2006–07', 'UFA Bisons', 'AMHL', '-', '27', '2', '10', '12', '34', '-', '8', '2', '2', '4', '18']\n",
      "['2007–08', 'UFA Bisons', 'AMHL', '-', '36', '13', '23', '36', '72', '-', '6', '2', '5', '7', '10']\n",
      "['2007–08', 'Lethbridge Hurricanes', 'WHL', '-', '6', '0', '0', '0', '0', '-', '10', '1', '2', '3', '4']\n",
      "['2008–09', 'Lethbridge Hurricanes', 'WHL', '-', '67', '12', '13', '25', '70', '-', '10', '1', '1', '2', '12']\n",
      "['2009–10', 'Lethbridge Hurricanes', 'WHL', '-', '68', '19', '24', '43', '114', '-', '—', '—', '—', '—', '—']\n",
      "['2010–11', 'Lethbridge Hurricanes', 'WHL', '-', '52', '24', '30', '54', '103', '-', '—', '—', '—', '—', '—']\n",
      "['2011–12', 'Vancouver Giants', 'WHL', '-', '—', '—', '—', '—', '—', '-', '6', '2', '3', '5', '13']\n",
      "['2012–13', 'Idaho Steelheads', 'ECHL', '-', '46', '14', '27', '41', '55', '-', '17', '5', '6', '11', '10']\n",
      "['2012–13', 'Texas Stars', 'AHL', '-', '11', '0', '2', '2', '4', '-', '—', '—', '—', '—', '—']\n",
      "['2013–14', 'Oklahoma City Barons', 'AHL', '-', '47', '7', '13', '20', '31', '-', '3', '1', '1', '2', '0']\n",
      "['2013–14', 'Idaho Steelheads', 'ECHL', '-', '15', '9', '6', '15', '37', '-', '—', '—', '—', '—', '—']\n",
      "['2014–15', 'Lehigh Valley Phantoms', 'AHL', '-', '64', '2', '9', '11', '85', '-', '—', '—', '—', '—', '—']\n",
      "['2015–16', 'South Carolina Stingrays', 'ECHL', '-', '41', '9', '11', '20', '88', '-', '19', '8', '11', '19', '28']\n",
      "['2015–16', 'Hershey Bears', 'AHL', '-', '6', '0', '1', '1', '2', '-', '—', '—', '—', '—', '—']\n",
      "['2016–17', 'Texas Stars', 'AHL', '-', '59', '6', '6', '12', '79', '-', '—', '—', '—', '—', '—']\n",
      "['2017–18', 'Texas Stars', 'AHL', '-', '42', '5', '5', '10', '51', '-', '11', '4', '0', '4', '0']\n",
      "['2017–18', 'Idaho Steelheads', 'ECHL', '-', '5', '0', '1', '1', '14', '-', '—', '—', '—', '—', '—']\n",
      "['2018–19', 'Providence Bruins', 'AHL', '-', '45', '3', '6', '9', '55', '-', '—', '—', '—', '—', '—']\n",
      "['2018–19', 'Belleville Senators', 'AHL', '-', '6', '1', '0', '1', '0', '-', '—', '—', '—', '—', '—']\n",
      "['AHL totals', 'AHL totals', 'AHL totals', '-', '280', '24', '42', '66', '307', '-', '14', '5', '1', '6', '0']\n"
     ]
    }
   ],
   "source": [
    "for l in dataset_train[\"table_array\"][7]:\n",
    "    print(l)"
   ]
  },
  {
   "cell_type": "code",
   "execution_count": 26,
   "id": "83950c19",
   "metadata": {},
   "outputs": [],
   "source": [
    "from datasets import load_from_disk\n",
    "ds = load_from_disk(\"dataset_val\")"
   ]
  }
 ],
 "metadata": {
  "kernelspec": {
   "display_name": "Python 3",
   "language": "python",
   "name": "python3"
  },
  "language_info": {
   "codemirror_mode": {
    "name": "ipython",
    "version": 3
   },
   "file_extension": ".py",
   "mimetype": "text/x-python",
   "name": "python",
   "nbconvert_exporter": "python",
   "pygments_lexer": "ipython3",
   "version": "3.13.1"
  }
 },
 "nbformat": 4,
 "nbformat_minor": 5
}
